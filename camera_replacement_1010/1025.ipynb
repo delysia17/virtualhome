{
 "cells": [
  {
   "cell_type": "markdown",
   "metadata": {},
   "source": [
    "# Generate Images"
   ]
  },
  {
   "cell_type": "markdown",
   "metadata": {},
   "source": [
    "xvfb-run --auto-servernum --server-args=\"-screen 0 640x480x24\" /unity_vol/linux_exec.v2.3.0.x86_64 -batchmode -http-port=8081"
   ]
  },
  {
   "cell_type": "code",
   "execution_count": 1,
   "metadata": {},
   "outputs": [],
   "source": [
    "from utils_demo import *\n",
    "from utils_view import *\n",
    "import numpy as np\n",
    "import os\n",
    "import time\n",
    "np.set_printoptions(suppress=True)\n",
    "\n",
    "from unity_simulator.comm_unity import UnityCommunication\n",
    "\n",
    "comm = UnityCommunication(port = '8081')"
   ]
  },
  {
   "cell_type": "code",
   "execution_count": 5,
   "metadata": {},
   "outputs": [],
   "source": [
    "def generate_image():\n",
    "    timestamp = int(time.time())\n",
    "    directory_path = f'imgs/{timestamp}'\n",
    "\n",
    "    if not os.path.isdir(directory_path):\n",
    "        os.mkdir(directory_path)\n",
    "\n",
    "    # save graph\n",
    "    save_json(os.path.join(directory_path, 'graph.json'), graph )\n",
    "    # save top view of whole scene\n",
    "    whole = display_whole_scene(comm)\n",
    "    whole.save(os.path.join(directory_path, 'whole.png'))\n",
    "\n",
    "    rooms = find_nodes(graph, category = 'Rooms')\n",
    "    for room in rooms:\n",
    "        id = room['id']\n",
    "        room_path = os.path.join(directory_path, f\"room_{id}\")\n",
    "        if not os.path.isdir(room_path):\n",
    "            os.mkdir(room_path)\n",
    "        top = display_top_room(comm, room)\n",
    "        top.save(os.path.join(room_path, 'top.png'))\n",
    "        cctv = display_cctv_room(comm, room)\n",
    "        cctv.save(os.path.join(room_path, 'cctv.png'))\n",
    "        closeup = get_closeup_room(comm, room)\n",
    "        closeup.save(os.path.join(room_path, 'closeup.png'))"
   ]
  },
  {
   "cell_type": "code",
   "execution_count": 6,
   "metadata": {},
   "outputs": [],
   "source": [
    "for i in range(10, 20):\n",
    "    comm.reset(i)\n",
    "    comm.remove_terrain()\n",
    "    _,graph = comm.environment_graph()\n",
    "    generate_image()\n",
    "    "
   ]
  },
  {
   "cell_type": "code",
   "execution_count": 10,
   "metadata": {},
   "outputs": [
    {
     "data": {
      "text/plain": [
       "[{'id': '1698233311',\n",
       "  'whole': '/imgs/1698233311/whole.png',\n",
       "  'Rooms': {'Room 1': {'Top View': '/imgs/1698233311/room_11/top.png',\n",
       "    'CCTV View': '/imgs/1698233311/room_11/cctv.png',\n",
       "    'Closeup View': '/imgs/1698233311/room_11/closeup.png'},\n",
       "   'Room 2': {'Top View': '/imgs/1698233311/room_73/top.png',\n",
       "    'CCTV View': '/imgs/1698233311/room_73/cctv.png',\n",
       "    'Closeup View': '/imgs/1698233311/room_73/closeup.png'},\n",
       "   'Room 3': {'Top View': '/imgs/1698233311/room_205/top.png',\n",
       "    'CCTV View': '/imgs/1698233311/room_205/cctv.png',\n",
       "    'Closeup View': '/imgs/1698233311/room_205/closeup.png'},\n",
       "   'Room 4': {'Top View': '/imgs/1698233311/room_335/top.png',\n",
       "    'CCTV View': '/imgs/1698233311/room_335/cctv.png',\n",
       "    'Closeup View': '/imgs/1698233311/room_335/closeup.png'}}},\n",
       " {'id': '1698233495',\n",
       "  'whole': '/imgs/1698233495/whole.png',\n",
       "  'Rooms': {'Room 1': {'Top View': '/imgs/1698233495/room_11/top.png',\n",
       "    'CCTV View': '/imgs/1698233495/room_11/cctv.png',\n",
       "    'Closeup View': '/imgs/1698233495/room_11/closeup.png'},\n",
       "   'Room 2': {'Top View': '/imgs/1698233495/room_50/top.png',\n",
       "    'CCTV View': '/imgs/1698233495/room_50/cctv.png',\n",
       "    'Closeup View': '/imgs/1698233495/room_50/closeup.png'},\n",
       "   'Room 3': {'Top View': '/imgs/1698233495/room_126/top.png',\n",
       "    'CCTV View': '/imgs/1698233495/room_126/cctv.png',\n",
       "    'Closeup View': '/imgs/1698233495/room_126/closeup.png'},\n",
       "   'Room 4': {'Top View': '/imgs/1698233495/room_261/top.png',\n",
       "    'CCTV View': '/imgs/1698233495/room_261/cctv.png',\n",
       "    'Closeup View': '/imgs/1698233495/room_261/closeup.png'}}}]"
      ]
     },
     "execution_count": 10,
     "metadata": {},
     "output_type": "execute_result"
    }
   ],
   "source": [
    "import os\n",
    "import random\n",
    "\n",
    "base = '/DATA/disk1/chenziyi/virtualhome/virtualhome/czy/flask_demo/static/imgs'\n",
    "relative_path = '/imgs'\n",
    "folders = [folder for folder in os.listdir(base) if not folder.startswith('.') ]\n",
    "def random_images():\n",
    "    chosen_folders = random.sample(folders, 2)\n",
    "    url = []\n",
    "    for folder in chosen_folders:\n",
    "        scene = {}\n",
    "        scene['id'] = folder\n",
    "        scene['whole'] = os.path.join(relative_path,folder,'whole.png')\n",
    "        scene['Rooms'] = {}\n",
    "        rooms = [dir for dir in os.listdir(os.path.join(base,folder)) if os.path.isdir(os.path.join(base,folder,dir))]\n",
    "        \n",
    "        for i, room in enumerate(rooms):\n",
    "            scene['Rooms'][f'Room {i + 1}'] = {}\n",
    "            scene['Rooms'][f'Room {i + 1}']['Top View'] = os.path.join(relative_path,folder,room,'top.png')\n",
    "            scene['Rooms'][f'Room {i + 1}']['CCTV View'] = os.path.join(relative_path,folder,room,'cctv.png')\n",
    "            scene['Rooms'][f'Room {i + 1}']['Closeup View'] = os.path.join(relative_path,folder,room,'closeup.png')\n",
    "        url.append(scene)\n",
    "    return url\n",
    "random_images()"
   ]
  }
 ],
 "metadata": {
  "kernelspec": {
   "display_name": "vm",
   "language": "python",
   "name": "python3"
  },
  "language_info": {
   "codemirror_mode": {
    "name": "ipython",
    "version": 3
   },
   "file_extension": ".py",
   "mimetype": "text/x-python",
   "name": "python",
   "nbconvert_exporter": "python",
   "pygments_lexer": "ipython3",
   "version": "3.9.18"
  }
 },
 "nbformat": 4,
 "nbformat_minor": 2
}
